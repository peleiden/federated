{
 "cells": [
  {
   "cell_type": "code",
   "execution_count": 12,
   "metadata": {},
   "outputs": [],
   "source": [
    "from dotenv import load_dotenv, find_dotenv\n",
    "import wandb"
   ]
  },
  {
   "cell_type": "code",
   "execution_count": 13,
   "metadata": {},
   "outputs": [
    {
     "data": {
      "text/plain": [
       "True"
      ]
     },
     "execution_count": 13,
     "metadata": {},
     "output_type": "execute_result"
    }
   ],
   "source": [
    "load_dotenv(find_dotenv())"
   ]
  },
  {
   "cell_type": "code",
   "execution_count": 17,
   "metadata": {},
   "outputs": [],
   "source": [
    "api = wandb.Api()\n",
    "run = api.run(\"federated-mulli/federated/1fbe4lwl\")"
   ]
  },
  {
   "cell_type": "markdown",
   "metadata": {},
   "source": []
  },
  {
   "cell_type": "code",
   "execution_count": 18,
   "metadata": {},
   "outputs": [
    {
     "data": {
      "text/plain": [
       "{'name': 'Loss test',\n",
       " 'model': \"{'channels_1': 32, 'channels_2': 64, 'kernel': 3, 'maxpool_kernel': 2, 'linear_hidden': 128, 'dropout_1': 0.25, 'dropout_2': 0.5}\",\n",
       " 'training': \"{'clients': 10, 'communication_rounds': 5, 'local_epochs': 2, 'clients_per_round': 5, 'local_data_amount': 288, 'batch_size': 48, 'lr_gamma': 1, 'lr': 0.001, 'seed': 42, 'dataset': 'cifar10', 'split': 'iid', 'alpha': 1}\"}"
      ]
     },
     "execution_count": 18,
     "metadata": {},
     "output_type": "execute_result"
    }
   ],
   "source": [
    "run.config"
   ]
  }
 ],
 "metadata": {
  "interpreter": {
   "hash": "f2a85c1380d635fc40c80620ade29f070ca1f968dd1ca6f8fe3a8d2c49f91037"
  },
  "kernelspec": {
   "display_name": "Python 3.9.7 ('Federated')",
   "language": "python",
   "name": "python3"
  },
  "language_info": {
   "codemirror_mode": {
    "name": "ipython",
    "version": 3
   },
   "file_extension": ".py",
   "mimetype": "text/x-python",
   "name": "python",
   "nbconvert_exporter": "python",
   "pygments_lexer": "ipython3",
   "version": "3.9.7"
  },
  "orig_nbformat": 4
 },
 "nbformat": 4,
 "nbformat_minor": 2
}
